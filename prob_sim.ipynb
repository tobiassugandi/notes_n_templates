{
 "cells": [
  {
   "cell_type": "code",
   "execution_count": 1,
   "metadata": {},
   "outputs": [],
   "source": [
    "import random"
   ]
  },
  {
   "cell_type": "markdown",
   "metadata": {},
   "source": [
    "# 1) N rolls s.t. each face of the dice appear at least once"
   ]
  },
  {
   "cell_type": "code",
   "execution_count": 5,
   "metadata": {},
   "outputs": [],
   "source": [
    "def roll_until_all_appear(n: int) -> float:\n",
    "    '''\n",
    "    Simulate until all faces appear.\n",
    "    Repeat this simulation n times\n",
    "\n",
    "    Input\n",
    "    n: number of repetitions of the simulation\n",
    "\n",
    "    Output: average number of rolls until all faces appear\n",
    "    '''\n",
    "    dice = [1,2,3,4,5,6]\n",
    "    n_rolls_list = []   \n",
    "\n",
    "    for _ in range(n):\n",
    "        appeared = []\n",
    "        n_rolls = 0 \n",
    "\n",
    "        while len(appeared) < 6:\n",
    "            roll = random.choice(dice)\n",
    "            n_rolls += 1\n",
    "\n",
    "            if roll not in appeared:\n",
    "                appeared.append(roll)\n",
    "       \n",
    "        n_rolls_list.append(n_rolls)\n",
    "\n",
    "    return sum(n_rolls_list) / n\n"
   ]
  },
  {
   "cell_type": "code",
   "execution_count": null,
   "metadata": {},
   "outputs": [],
   "source": [
    "roll_until_all_appear(1000000)"
   ]
  },
  {
   "cell_type": "code",
   "execution_count": null,
   "metadata": {},
   "outputs": [],
   "source": []
  },
  {
   "cell_type": "markdown",
   "metadata": {},
   "source": [
    "# 2) Gambler's ruin"
   ]
  },
  {
   "cell_type": "code",
   "execution_count": 26,
   "metadata": {},
   "outputs": [],
   "source": [
    "def simulate_gamblers(n:int, p:float, init_cap: int, win_cap: int, get_win: int = 1, get_lose: int = -1, verbose = True) -> float:\n",
    "    '''\n",
    "    Simulate gambler's ruin\n",
    "    \n",
    "    Input\n",
    "    n: number of simulations\n",
    "    p: probability of winning\n",
    "    init: initial capital\n",
    "    win: capital to reach to win\n",
    "\n",
    "    Output\n",
    "    average number of rounds to end the game\n",
    "    '''\n",
    "\n",
    "    rounds_list = []\n",
    "    lose_count = 0\n",
    "    win_count = 0\n",
    "\n",
    "\n",
    "    for _ in range(n):\n",
    "        capital = init_cap\n",
    "        rounds = 0\n",
    "\n",
    "\n",
    "        while capital > 0 and capital < win_cap:\n",
    "            roll = random.uniform(0,1)\n",
    "\n",
    "            if roll < p:\n",
    "                capital += get_win\n",
    "            else:\n",
    "                capital += get_lose\n",
    "            \n",
    "            rounds += 1\n",
    "        \n",
    "        if capital == 0:\n",
    "            lose_count += 1\n",
    "        else:\n",
    "            win_count += 1\n",
    "    \n",
    "        rounds_list.append(rounds)\n",
    "    \n",
    "    average_rounds = sum(rounds_list) / n\n",
    "    win_rate = win_count / n\n",
    "    lose_rate = lose_count / n\n",
    "    if verbose:\n",
    "        print(f'Simul params: n={n}, p={p}, init_cap={init_cap}, win_cap={win_cap}, get_win={get_win}, get_lose={get_lose}')\n",
    "        print(f'Average rounds: {average_rounds:.2f}')\n",
    "        print(f'Win rate: {win_rate * 100:.1f} %')\n",
    "        print(f'Lose rate: {lose_rate * 100:.1f} %')\n",
    "\n",
    "    return average_rounds, win_rate, lose_rate\n"
   ]
  },
  {
   "cell_type": "code",
   "execution_count": null,
   "metadata": {},
   "outputs": [],
   "source": [
    "average_rounds, win_rate, lose_rate = simulate_gamblers(1000, 0.55, 10, 20)"
   ]
  },
  {
   "cell_type": "code",
   "execution_count": null,
   "metadata": {},
   "outputs": [],
   "source": []
  },
  {
   "cell_type": "code",
   "execution_count": null,
   "metadata": {},
   "outputs": [],
   "source": []
  },
  {
   "cell_type": "code",
   "execution_count": null,
   "metadata": {},
   "outputs": [],
   "source": []
  },
  {
   "cell_type": "code",
   "execution_count": null,
   "metadata": {},
   "outputs": [],
   "source": []
  }
 ],
 "metadata": {
  "kernelspec": {
   "display_name": "fno",
   "language": "python",
   "name": "python3"
  },
  "language_info": {
   "codemirror_mode": {
    "name": "ipython",
    "version": 3
   },
   "file_extension": ".py",
   "mimetype": "text/x-python",
   "name": "python",
   "nbconvert_exporter": "python",
   "pygments_lexer": "ipython3",
   "version": "3.11.8"
  }
 },
 "nbformat": 4,
 "nbformat_minor": 2
}
