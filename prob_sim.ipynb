{
 "cells": [
  {
   "cell_type": "markdown",
   "metadata": {},
   "source": [
    "# Probabilistic Simulations"
   ]
  },
  {
   "cell_type": "code",
   "execution_count": null,
   "metadata": {},
   "outputs": [],
   "source": [
    "import random\n",
    "import numpy as np"
   ]
  },
  {
   "cell_type": "markdown",
   "metadata": {},
   "source": [
    "# 1) N rolls s.t. each face of the dice appear at least once"
   ]
  },
  {
   "cell_type": "code",
   "execution_count": null,
   "metadata": {},
   "outputs": [],
   "source": [
    "def roll_until_all_appear(n: int) -> float:\n",
    "    '''\n",
    "    Simulate until all faces appear.\n",
    "    Repeat this simulation n times\n",
    "\n",
    "    Input\n",
    "    n: number of repetitions of the simulation\n",
    "\n",
    "    Output: average number of rolls until all faces appear\n",
    "    '''\n",
    "    dice = [1,2,3,4,5,6]\n",
    "    n_rolls_list = []   \n",
    "\n",
    "    for _ in range(n):\n",
    "        appeared = []\n",
    "        n_rolls = 0 \n",
    "\n",
    "        while len(appeared) < 6:\n",
    "            roll = random.choice(dice)\n",
    "            n_rolls += 1\n",
    "\n",
    "            if roll not in appeared:\n",
    "                appeared.append(roll)\n",
    "       \n",
    "        n_rolls_list.append(n_rolls)\n",
    "\n",
    "    return sum(n_rolls_list) / n\n"
   ]
  },
  {
   "cell_type": "code",
   "execution_count": null,
   "metadata": {},
   "outputs": [],
   "source": [
    "roll_until_all_appear(1000000)"
   ]
  },
  {
   "cell_type": "code",
   "execution_count": null,
   "metadata": {},
   "outputs": [],
   "source": []
  },
  {
   "cell_type": "markdown",
   "metadata": {},
   "source": [
    "# 2) Gambler's ruin"
   ]
  },
  {
   "cell_type": "code",
   "execution_count": null,
   "metadata": {},
   "outputs": [],
   "source": [
    "def simulate_gamblers(n:int, p:float, init_cap: int, win_cap: int, get_win: int = 1, get_lose: int = -1, verbose = True) -> float:\n",
    "    '''\n",
    "    Simulate gambler's ruin\n",
    "    \n",
    "    Input\n",
    "    n: number of simulations\n",
    "    p: probability of winning\n",
    "    init: initial capital\n",
    "    win: capital to reach to win\n",
    "\n",
    "    Output\n",
    "    average number of rounds to end the game\n",
    "    '''\n",
    "\n",
    "    rounds_list = []\n",
    "    lose_count = 0\n",
    "    win_count = 0\n",
    "\n",
    "\n",
    "    for _ in range(n):\n",
    "        capital = init_cap\n",
    "        rounds = 0\n",
    "\n",
    "\n",
    "        while capital > 0 and capital < win_cap:\n",
    "            roll = random.uniform(0,1)\n",
    "\n",
    "            if roll < p:\n",
    "                capital += get_win\n",
    "            else:\n",
    "                capital += get_lose\n",
    "            \n",
    "            rounds += 1\n",
    "        \n",
    "        if capital == 0:\n",
    "            lose_count += 1\n",
    "        else:\n",
    "            win_count += 1\n",
    "    \n",
    "        rounds_list.append(rounds)\n",
    "    \n",
    "    average_rounds = sum(rounds_list) / n\n",
    "    win_rate = win_count / n\n",
    "    lose_rate = lose_count / n\n",
    "    if verbose:\n",
    "        print(f'Simul params: n={n}, p={p}, init_cap={init_cap}, win_cap={win_cap}, get_win={get_win}, get_lose={get_lose}')\n",
    "        print(f'Average rounds: {average_rounds:.2f}')\n",
    "        print(f'Win rate: {win_rate * 100:.1f} %')\n",
    "        print(f'Lose rate: {lose_rate * 100:.1f} %')\n",
    "\n",
    "    return average_rounds, win_rate, lose_rate\n"
   ]
  },
  {
   "cell_type": "code",
   "execution_count": null,
   "metadata": {},
   "outputs": [],
   "source": [
    "average_rounds, win_rate, lose_rate = simulate_gamblers(1000, 0.55, 10, 20)"
   ]
  },
  {
   "cell_type": "code",
   "execution_count": null,
   "metadata": {},
   "outputs": [],
   "source": []
  },
  {
   "cell_type": "markdown",
   "metadata": {},
   "source": [
    "# 3) Coin Toss: P(Win first round given eventually win)"
   ]
  },
  {
   "cell_type": "code",
   "execution_count": null,
   "metadata": {},
   "outputs": [],
   "source": [
    "alice = {}\n",
    "bob = {}\n",
    "\n",
    "Nsims = 1000000\n",
    "\n",
    "for i in range(Nsims):\n",
    "    round = 1\n",
    "    still_playing = True\n",
    "    while still_playing:\n",
    "        bob_flip = random.choice([\"H\", \"T\"], )\n",
    "        if bob_flip == \"H\":\n",
    "            bob[round] = bob.get(round, 0) + 1\n",
    "            still_playing = False\n",
    "            break\n",
    "        \n",
    "        alice_flip = random.choice([\"H\", \"T\"])\n",
    "        if alice_flip == \"H\":\n",
    "            alice[round] = alice.get(round, 0) + 1\n",
    "            still_playing = False\n",
    "        \n",
    "        round += 1\n"
   ]
  },
  {
   "cell_type": "code",
   "execution_count": null,
   "metadata": {},
   "outputs": [],
   "source": [
    "bob"
   ]
  },
  {
   "cell_type": "code",
   "execution_count": null,
   "metadata": {},
   "outputs": [],
   "source": [
    "bob_total_win = sum(bob.values())\n",
    "prob_W1_given_bobWin = bob.get(1, 0) / bob_total_win\n",
    "print(f\"prob_W1_given_bobWin = {prob_W1_given_bobWin}\")\n",
    "print(f'prob_bob_total_win = {bob_total_win / Nsims}')"
   ]
  },
  {
   "cell_type": "code",
   "execution_count": null,
   "metadata": {},
   "outputs": [],
   "source": [
    "alice_total_win = sum(alice.values())\n",
    "prob_W1_given_aliceWin = alice.get(1, 0) / alice_total_win\n",
    "print(f\"prob_W1_given_aliceWin = {prob_W1_given_aliceWin}\")\n",
    "print(f'prob_alice_total_win = {alice_total_win / Nsims}')"
   ]
  },
  {
   "cell_type": "code",
   "execution_count": null,
   "metadata": {},
   "outputs": [],
   "source": [
    "from matplotlib import pyplot as plt\n",
    "plt.scatter(bob.keys(), [val_i / sum(bob.values()) for val_i in bob.values()], label = \"Bob\")\n",
    "# expo? geo? "
   ]
  },
  {
   "cell_type": "code",
   "execution_count": null,
   "metadata": {},
   "outputs": [],
   "source": []
  }
 ],
 "metadata": {
  "kernelspec": {
   "display_name": "fno",
   "language": "python",
   "name": "python3"
  },
  "language_info": {
   "codemirror_mode": {
    "name": "ipython",
    "version": 3
   },
   "file_extension": ".py",
   "mimetype": "text/x-python",
   "name": "python",
   "nbconvert_exporter": "python",
   "pygments_lexer": "ipython3",
   "version": "3.11.8"
  }
 },
 "nbformat": 4,
 "nbformat_minor": 2
}
